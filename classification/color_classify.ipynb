{
 "cells": [
  {
   "cell_type": "code",
   "execution_count": 25,
   "metadata": {},
   "outputs": [],
   "source": [
    "import cv2\n",
    "import numpy as np\n",
    "from collections import Counter\n",
    "\n",
    "# # # 25개의 색상 코드를 정의합니다.\n",
    "# color_codes = [\"#F4F0E5\", \"#D2C6B4\", \"#AE9C88\", \"#8E7861\", \"#6E5841\", \"#513A28\", \n",
    "#                \"#342113\", \"#180B05\", \"#010101\", \"#D7C384\", \"#B7A05D\", \"#9B7A4D\", \n",
    "#                \"#845B3B\", \"#664B2E\", \"#534228\", \"#3D2C18\", \"#B49C1E\", \"#A07429\", \n",
    "#                \"#8A4F2D\", \"#6F5232\", \"#4E5534\", \"#B26726\", \"#89392E\", \"#84432F\", \n",
    "#                \"#AC192A\", \"#AD1A2A\", \"#1D4F36\", \"#000000\", \"#D0CECF\", \n",
    "#                \"#840000\", \"#6D0000\" # DarkRed\n",
    "#                ]\n",
    "color_codes = [\n",
    "    '#E8E8E8', '#F5F5F5', '#FFF5ED', '#FEFEFE', '#FFFFFF',\n",
    "    '#5A5856', '#6E605E', '#808080', '#A9A9A9', '#BEBEBE',\n",
    "    '#000000', '#1C1C1C', '#362F00', '#2C2C2C',\n",
    "    '#FF8C00', '#E4B206', '#FFA500', '#FAB000', '#FFB61F', '#FFD700',\n",
    "    '#730606', '#B22222', '#DC143C', '#FF4500',\n",
    "    '#228B22', '#747D00', '#798F11', '#6B8E23', '#858E1E',\n",
    "    '#520561', '#7F2145', '#8F3C5B', '#EB3FA9',\n",
    "    '#7B3F00', '#5C4033', '#6A482D', '#8B4513', '#805D47', \"#9B7A4D\", \"#845B3B\", \"#664B2E\", \"#A07429\", \"#6F5232\"\n",
    "]\n",
    "\n",
    "\n",
    "# color_codes = [\"#AD1A2A\", \"#AC192A\", # 빨강\n",
    "#                 \"#1D4F36\", \"#4E5534\", # 초록\n",
    "#                 \"#F4F0E5\", # 하양\n",
    "#                 \"#D2C6B4\", \"#AE9C88\", \"#8E7861\", \"#D7C384\", \"#B7A05D\", \"#B49C1E\",  # 노란 계열 # 지방이 많이 포함된 음식\n",
    "#                 \"#000000\", \"#342113\", \"#180B05\", \"#010101\", \"#534228\", \"#3D2C18\", # 검은색 계열\n",
    "#                 \"#9B7A4D\", \"#845B3B\", \"#664B2E\", \"#A07429\", \"#6F5232\", # 갈색 계열\n",
    "#                 \"#8A4F2D\"] \n",
    "\n",
    "# 위험 색상 목록을 정의합니다.\n",
    "danger_colors = [\n",
    "    \"#F4F0E5\", # 하양\n",
    "    \"#D2C6B4\", \"#AE9C88\", \"#8E7861\", \"#D7C384\", \"#B7A05D\", \"#B49C1E\", # 노란 계열 \n",
    "    \"#AD1A2A\", \"#AC192A\", # 선홍 빨강\n",
    "    \"#840000\", \"#6D0000\", # Dark Red\n",
    "    \"#1D4F36\", \"#4E5534\", # 초록\n",
    "    \"#000000\", \"#342113\", \"#180B05\", \"#010101\", \"#534228\", \"#3D2C18\", # 검은색 계열\n",
    "    \"#D0CECF\" # 회색\n",
    "]\n",
    "\n",
    "\n",
    "\n",
    "def hex_to_rgb(hex_color):\n",
    "    hex_color = hex_color.lstrip('#')\n",
    "    return tuple(int(hex_color[i:i+2], 16) for i in (0, 2, 4))\n",
    "\n",
    "def rgb_to_hex(color):\n",
    "    return \"#{:02x}{:02x}{:02x}\".format(color[0], color[1], color[2])\n",
    "\n",
    "# OpenCV에서는 BGR을 사용하지만, 여기서는 RGB로 반환합니다.\n",
    "color_codes_rgb = [hex_to_rgb(code) for code in color_codes]\n",
    "danger_colors_rgb = [hex_to_rgb(code) for code in danger_colors]"
   ]
  },
  {
   "cell_type": "code",
   "execution_count": 26,
   "metadata": {},
   "outputs": [
    {
     "name": "stdout",
     "output_type": "stream",
     "text": [
      "[(232, 232, 232), (245, 245, 245), (255, 245, 237), (254, 254, 254), (255, 255, 255), (90, 88, 86), (110, 96, 94), (128, 128, 128), (169, 169, 169), (190, 190, 190), (0, 0, 0), (28, 28, 28), (54, 47, 0), (44, 44, 44), (255, 140, 0), (228, 178, 6), (255, 165, 0), (250, 176, 0), (255, 182, 31), (255, 215, 0), (115, 6, 6), (178, 34, 34), (220, 20, 60), (255, 69, 0), (34, 139, 34), (116, 125, 0), (121, 143, 17), (107, 142, 35), (133, 142, 30), (82, 5, 97), (127, 33, 69), (143, 60, 91), (235, 63, 169), (123, 63, 0), (92, 64, 51), (106, 72, 45), (139, 69, 19), (128, 93, 71)]\n"
     ]
    }
   ],
   "source": [
    "print(color_codes_rgb)"
   ]
  },
  {
   "cell_type": "code",
   "execution_count": 27,
   "metadata": {},
   "outputs": [],
   "source": [
    "import matplotlib.pyplot as plt\n",
    "def perceptual_color_quantization(image, color_palette):\n",
    "    height, width, _ = image.shape\n",
    "    image = cv2.cvtColor(image, cv2.COLOR_BGR2RGB) # 색변환\n",
    "    quantized_image = image.copy()  # 입력 이미지를 복사하여 양자화된 이미지를 생성\n",
    "    \n",
    "    white_threshold = np.array([245, 245, 245])  # 하얀색으로 간주할 임계값 설정\n",
    "    \n",
    "    for y in range(height):\n",
    "        for x in range(width):\n",
    "            pixel_color = image[y, x]\n",
    "            if np.all(pixel_color >= white_threshold):  # 하얀색 배경은 처리하지 않음\n",
    "                continue\n",
    "            closest_color = min(color_palette, key=lambda color: np.linalg.norm(pixel_color - color))\n",
    "            quantized_image[y, x] = closest_color\n",
    "    plt.subplot(1, 2, 1)\n",
    "    plt.imshow(image)\n",
    "    plt.title(f\"Image at y={y}\")\n",
    "    plt.axis('off')\n",
    "    \n",
    "    plt.subplot(1, 2, 2)\n",
    "    plt.imshow(quantized_image)\n",
    "    plt.title(f\"Quantized Image at y={y}\")\n",
    "    plt.axis('off')\n",
    "    plt.show()\n",
    "    return quantized_image"
   ]
  },
  {
   "cell_type": "code",
   "execution_count": 28,
   "metadata": {},
   "outputs": [],
   "source": [
    "def analyze_image_colors(quantized_image, danger_colors, threshold=15.0):\n",
    "    # 하얀색으로 간주할 임계값 설정 (예: 약간의 여유를 둠)\n",
    "    white_threshold = np.array([245, 245, 245])\n",
    "\n",
    "    # 이미지를 2차원 배열로 평평하게 만듭니다.\n",
    "    flat_image = quantized_image.reshape(-1, 3)\n",
    "    \n",
    "    # 하얀색이 아닌 픽셀만 선택\n",
    "    non_white_pixels = [tuple(pixel) for pixel in flat_image if not np.all(pixel >= white_threshold)]\n",
    "    \n",
    "    # 각 색상의 출현 빈도를 계산합니다.\n",
    "    color_counts = Counter(non_white_pixels)\n",
    "    if not color_counts:\n",
    "        # 비하얀 픽셀이 없을 경우 처리: 여기서는 None으로 반환하거나 기본값 설정\n",
    "        return None, [], {}\n",
    "\n",
    "    # 가장 많이 나타나는 색상(대표 색상)을 찾습니다.\n",
    "    most_common_color = color_counts.most_common(1)[0][0]\n",
    "    \n",
    "    # 위험 색상 존재 여부 및 비율 확인\n",
    "    detected_danger_colors = []\n",
    "    danger_color_percentages = {}\n",
    "    total_non_white_pixels = len(non_white_pixels)\n",
    "\n",
    "    for color in danger_colors:\n",
    "        color_tuple = tuple(color)\n",
    "        if color_tuple in color_counts:\n",
    "            # 위험 색상이 차지하는 비율 계산 (백분율)\n",
    "            percentage = (color_counts[color_tuple] / total_non_white_pixels) * 100\n",
    "            danger_color_percentages[color_tuple] = percentage\n",
    "            \n",
    "            # 임계값을 넘는 경우에만 위험 색상으로 추가\n",
    "            if percentage >= threshold:\n",
    "                detected_danger_colors.append(color_tuple)\n",
    "    \n",
    "    return most_common_color, detected_danger_colors, danger_color_percentages\n"
   ]
  },
  {
   "cell_type": "code",
   "execution_count": 29,
   "metadata": {},
   "outputs": [],
   "source": [
    "def analyze_image(image, color_codes_rgb, danger_colors_rgb):\n",
    "    # 이미지를 주어진 팔레트로 양자화\n",
    "    quantized_image = perceptual_color_quantization(image, color_codes_rgb)\n",
    "    \n",
    "    # 함수 호출 예시\n",
    "    threshold_value = 15.0  # 10% 이상의 색상만 위험 등급에 포함\n",
    "    most_common_color, detected_danger_colors, danger_color_percentages = analyze_image_colors(quantized_image, danger_colors_rgb, threshold=threshold_value)\n",
    "\n",
    "    print(f\"대표 색상: {most_common_color}\")\n",
    "    print(f\"감지된 위험 색상: {detected_danger_colors}\")\n",
    "    print(f\"위험 색상 비율: {danger_color_percentages}\")\n",
    "    # RGB 값을 색상 코드로 변환\n",
    "    most_common_color_hex = rgb_to_hex(most_common_color) if most_common_color else None\n",
    "    detected_danger_colors_hex = [rgb_to_hex(color) for color in detected_danger_colors]\n",
    "    \n",
    "    # 결과를 반환합니다.\n",
    "    return most_common_color, detected_danger_colors, most_common_color_hex, detected_danger_colors_hex\n"
   ]
  },
  {
   "cell_type": "code",
   "execution_count": 30,
   "metadata": {},
   "outputs": [
    {
     "data": {
      "image/png": "[encoded data removed]",
      "text/plain": [
       "<Figure size 640x480 with 2 Axes>"
      ]
     },
     "metadata": {},
     "output_type": "display_data"
    },
    {
     "name": "stdout",
     "output_type": "stream",
     "text": [
      "대표 색상: (90, 88, 86)\n",
      "감지된 위험 색상: []\n",
      "위험 색상 비율: {(0, 0, 0): 1.7149490792042636}\n",
      "대표 색상: #5a5856\n",
      "감지된 위험 색상: []\n"
     ]
    }
   ],
   "source": [
    "# 이미지를 불러옵니다.\n",
    "# image = cv2.imread('/root/ai/dataset/classification_aug_apply/train/1/Type1_iter3_jpg.rf.120ab2fecf2da5c5636192b9a1f1e4af_aug_93.jpg')\n",
    "# image = cv2.imread(\"/root/ai/dataset/classification_aug_apply/train/1/Type1_iter3_jpg.rf.120ab2fecf2da5c5636192b9a1f1e4af_aug_54.jpg\")\n",
    "image = cv2.imread(\"/root/ai/dataset/puppy_poo/dataset_cls_train_aug_apply/train/2/1671179453042_jpg.rf.a0cbcb5c212d818bdf3bce0ef6826ca5.jpg\")\n",
    "\n",
    "# 이미지에서 색상 분석을 수행합니다.\n",
    "mc, dc, most_common_color, detected_danger_colors = analyze_image(image, color_codes_rgb, danger_colors_rgb)\n",
    "\n",
    "print(f\"대표 색상: {most_common_color}\")\n",
    "print(f\"감지된 위험 색상: {detected_danger_colors}\")"
   ]
  },
  {
   "cell_type": "markdown",
   "metadata": {},
   "source": [
    "## 대표색"
   ]
  },
  {
   "cell_type": "code",
   "execution_count": 7,
   "metadata": {},
   "outputs": [
    {
     "name": "stdout",
     "output_type": "stream",
     "text": [
      "#6e5841\n",
      "[]\n"
     ]
    },
    {
     "data": {
      "image/png": "[encoded data removed]",
      "text/plain": [
       "<Figure size 1200x200 with 1 Axes>"
      ]
     },
     "metadata": {},
     "output_type": "display_data"
    }
   ],
   "source": [
    "print(most_common_color)\n",
    "print(detected_danger_colors)\n",
    "# 대표 색상과 위험 색상을 하나의 리스트로 병합\n",
    "all_colors = [most_common_color] + detected_danger_colors\n",
    "\n",
    "# 각 색상을 plot으로 표시\n",
    "fig, ax = plt.subplots(figsize=(12, 2))\n",
    "for i, color in enumerate(all_colors):\n",
    "    ax.add_patch(plt.Rectangle((i, 0), 1, 1, color=color))\n",
    "\n",
    "ax.set_xlim(0, len(all_colors))\n",
    "ax.set_ylim(0, 1)\n",
    "ax.axis('off')\n",
    "\n",
    "plt.show()"
   ]
  },
  {
   "cell_type": "code",
   "execution_count": 8,
   "metadata": {},
   "outputs": [
    {
     "name": "stdout",
     "output_type": "stream",
     "text": [
      "[]\n",
      "(110, 88, 65)\n"
     ]
    },
    {
     "data": {
      "image/png": "[encoded data removed]",
      "text/plain": [
       "<Figure size 1200x200 with 1 Axes>"
      ]
     },
     "metadata": {},
     "output_type": "display_data"
    }
   ],
   "source": [
    "print(dc)\n",
    "print(mc)\n",
    "# 대표 색상과 위험 색상을 하나의 리스트로 병합\n",
    "all_colors = [mc] + dc \n",
    "\n",
    "# 각 색상을 plot으로 표시\n",
    "fig, ax = plt.subplots(figsize=(12, 2))\n",
    "for i, color in enumerate(all_colors):\n",
    "    ax.add_patch(plt.Rectangle((i, 0), 1, 1, color=np.array(color)/255))\n",
    "\n",
    "ax.set_xlim(0, len(all_colors))\n",
    "ax.set_ylim(0, 1)\n",
    "ax.axis('off')\n",
    "\n",
    "plt.show()"
   ]
  },
  {
   "cell_type": "code",
   "execution_count": 41,
   "metadata": {},
   "outputs": [
    {
     "name": "stdout",
     "output_type": "stream",
     "text": [
      "[(244, 240, 229), (210, 198, 180), (174, 156, 136), (142, 120, 97), (110, 88, 65), (81, 58, 40), (52, 33, 19), (24, 11, 5), (1, 1, 1), (215, 195, 132), (183, 160, 93), (155, 122, 77), (132, 91, 59), (102, 75, 46), (83, 66, 40), (61, 44, 24), (180, 156, 30), (160, 116, 41), (138, 79, 45), (111, 82, 50), (78, 85, 52), (178, 103, 38), (137, 57, 46), (132, 67, 47), (172, 25, 42), (173, 26, 42), (29, 79, 54), (0, 0, 0), (208, 206, 207), (132, 0, 0), (109, 0, 0)]\n",
      "[(244, 240, 229), (210, 198, 180), (174, 156, 136), (142, 120, 97), (215, 195, 132), (183, 160, 93), (180, 156, 30), (173, 26, 42), (172, 25, 42), (132, 0, 0), (109, 0, 0), (29, 79, 54), (78, 85, 52), (0, 0, 0), (52, 33, 19), (24, 11, 5), (1, 1, 1), (83, 66, 40), (61, 44, 24), (208, 206, 207)]\n"
     ]
    }
   ],
   "source": [
    "print(color_codes_rgb)\n",
    "print(danger_colors_rgb)"
   ]
  },
  {
   "cell_type": "code",
   "execution_count": 42,
   "metadata": {},
   "outputs": [
    {
     "data": {
      "image/png": "[encoded data removed]",
      "text/plain": [
       "<Figure size 1200x200 with 1 Axes>"
      ]
     },
     "metadata": {},
     "output_type": "display_data"
    }
   ],
   "source": [
    "# 대표 색상과 위험 색상을 하나의 리스트로 병합\n",
    "all_colors = color_codes_rgb + danger_colors_rgb\n",
    "\n",
    "# 각 색상을 plot으로 표시\n",
    "fig, ax = plt.subplots(figsize=(12, 2))\n",
    "for i, color in enumerate(all_colors):\n",
    "    ax.add_patch(plt.Rectangle((i, 0), 1, 1, color=np.array(color)/255))\n",
    "\n",
    "ax.set_xlim(0, len(all_colors))\n",
    "ax.set_ylim(0, 1)\n",
    "ax.axis('off')\n",
    "\n",
    "plt.show()"
   ]
  },
  {
   "cell_type": "code",
   "execution_count": null,
   "metadata": {},
   "outputs": [],
   "source": []
  }
 ],
 "metadata": {
  "kernelspec": {
   "display_name": "base",
   "language": "python",
   "name": "python3"
  },
  "language_info": {
   "codemirror_mode": {
    "name": "ipython",
    "version": 3
   },
   "file_extension": ".py",
   "mimetype": "text/x-python",
   "name": "python",
   "nbconvert_exporter": "python",
   "pygments_lexer": "ipython3",
   "version": "3.10.11"
  }
 },
 "nbformat": 4,
 "nbformat_minor": 2
}
